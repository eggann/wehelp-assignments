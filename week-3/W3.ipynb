{
 "cells": [
  {
   "cell_type": "code",
   "execution_count": 86,
   "metadata": {},
   "outputs": [
    {
     "name": "stdout",
     "output_type": "stream",
     "text": [
      "Collecting openpyxl\n",
      "  Downloading openpyxl-3.0.9-py2.py3-none-any.whl (242 kB)\n",
      "Collecting et-xmlfile\n",
      "  Downloading et_xmlfile-1.1.0-py3-none-any.whl (4.7 kB)\n",
      "Installing collected packages: et-xmlfile, openpyxl\n",
      "Successfully installed et-xmlfile-1.1.0 openpyxl-3.0.9\n",
      "Note: you may need to restart the kernel to use updated packages.\n"
     ]
    },
    {
     "name": "stderr",
     "output_type": "stream",
     "text": [
      "WARNING: You are using pip version 20.2.3; however, version 21.3.1 is available.\n",
      "You should consider upgrading via the 'C:\\Users\\eggann47\\AppData\\Local\\Programs\\Python\\Python39\\python.exe -m pip install --upgrade pip' command.\n"
     ]
    }
   ],
   "source": [
    "pip install openpyxl"
   ]
  },
  {
   "cell_type": "code",
   "execution_count": 112,
   "metadata": {},
   "outputs": [
    {
     "ename": "AttributeError",
     "evalue": "'list' object has no attribute 'json'",
     "output_type": "error",
     "traceback": [
      "\u001b[1;31m---------------------------------------------------------------------------\u001b[0m",
      "\u001b[1;31mAttributeError\u001b[0m                            Traceback (most recent call last)",
      "\u001b[1;32m<ipython-input-112-a9dc130b7780>\u001b[0m in \u001b[0;36m<module>\u001b[1;34m\u001b[0m\n\u001b[0;32m     21\u001b[0m \u001b[1;33m\u001b[0m\u001b[0m\n\u001b[0;32m     22\u001b[0m     \u001b[0mws\u001b[0m\u001b[1;33m.\u001b[0m\u001b[0mappend\u001b[0m\u001b[1;33m(\u001b[0m\u001b[0mtotal_data\u001b[0m\u001b[1;33m)\u001b[0m\u001b[1;33m\u001b[0m\u001b[1;33m\u001b[0m\u001b[0m\n\u001b[1;32m---> 23\u001b[1;33m \u001b[0mprint\u001b[0m\u001b[1;33m(\u001b[0m\u001b[0mtotal_data\u001b[0m\u001b[1;33m.\u001b[0m\u001b[0mjson\u001b[0m\u001b[1;33m(\u001b[0m\u001b[1;33m)\u001b[0m\u001b[1;33m)\u001b[0m\u001b[1;33m\u001b[0m\u001b[1;33m\u001b[0m\u001b[0m\n\u001b[0m\u001b[0;32m     24\u001b[0m \u001b[1;33m\u001b[0m\u001b[0m\n\u001b[0;32m     25\u001b[0m \u001b[1;31m# wb.save('data.csv')\u001b[0m\u001b[1;33m\u001b[0m\u001b[1;33m\u001b[0m\u001b[1;33m\u001b[0m\u001b[0m\n",
      "\u001b[1;31mAttributeError\u001b[0m: 'list' object has no attribute 'json'"
     ]
    }
   ],
   "source": [
    "import urllib.request as request\n",
    "import json\n",
    "from openpyxl import Workbook\n",
    "src=\"https://padax.github.io/taipei-day-trip-resources/taipei-attractions-assignment.json\"\n",
    "with request.urlopen(src) as response:\n",
    "    data=json.load(response)\n",
    "\n",
    "wb = Workbook()\n",
    "ws = wb.active\n",
    "\n",
    "title = ['景點名稱','區域','經度','緯度','第一張圖檔網址']\n",
    "ws.append(title)\n",
    "    \n",
    "for test in data['result']['results']:\n",
    "    total_data = []\n",
    "    total_data.append(test['stitle'])\n",
    "    total_data.append(test['address'][5]+test['address'][6]+test['address'][7])\n",
    "    total_data.append(test['longitude'])\n",
    "    total_data.append(test['latitude'])\n",
    "    total_data.append('https' + test['file'].split('https')[1])\n",
    "    \n",
    "    ws.append(total_data)\n",
    "\n",
    "wb.save('data.csv')\n",
    "\n",
    "# 一筆一筆抓資料的痕跡\n",
    "\n",
    "# nlist=data['result']['results']\n",
    "# for namelist in nlist:\n",
    "#     name = namelist['stitle']\n",
    "#     print(name)\n",
    "\n",
    "# alist=data['result']['results']\n",
    "# for arealist in alist:\n",
    "#     area = arealist['address'][5]+arealist['address'][6]+arealist['address'][7]\n",
    "#     print(area)\n",
    "\n",
    "# llist=data['result']['results']\n",
    "# for longitude in llist:\n",
    "#     longitude_num = longitude['longitude']\n",
    "#     print(longitude_num)\n",
    "\n",
    "# lalist=data['result']['results']\n",
    "# for latitude in lalist:\n",
    "#     latitude_num = latitude['latitude']\n",
    "#     print(latitude_num)\n",
    "\n",
    "# jlist=data['result']['results']\n",
    "# for jpg in jlist:\n",
    "#     jpg_file = 'https'+jpg['file'].split('https')[1]\n",
    "#     print(jpg_file)\n",
    "    "
   ]
  },
  {
   "cell_type": "code",
   "execution_count": 114,
   "metadata": {},
   "outputs": [
    {
     "name": "stdout",
     "output_type": "stream",
     "text": [
      "['新北投溫泉區', '北投區', '121.508447', '25.137077', 'https://www.travel.taipei/d_upload_ttn/sceneadmin/pic/11000848.jpg']\n",
      "['大稻埕碼頭', '大同區', '121.508274', '25.056847', 'https://www.travel.taipei/d_upload_ttn/sceneadmin/pic/11000340.jpg']\n",
      "['士林官邸', '士林區', '121.530849', '25.091713', 'https://www.travel.taipei/d_upload_ttn/sceneadmin/image/A0/B0/C0/D7/E150/F719/71eb4b56-f771-43bc-856c-2fb265a5cc6e.jpg']\n",
      "['國立故宮博物院', '士林區', '121.5496', '25.1013', 'https://www.travel.taipei/d_upload_ttn/sceneadmin/image/A0/B0/C0/D14/E810/F21/48d66fbd-1ba3-4efd-837a-3767db5f52e0.jpg']\n",
      "['北投圖書館', '北投區', '121.506343', '25.136571', 'https://www.travel.taipei/d_upload_ttn/sceneadmin/image/A0/B0/C1/D878/E726/F304/2d6e8b50-76ce-4b7e-a795-0357cd6f2b3e.jpg']\n",
      "['陽明山溫泉區', '北投區', '121.547742', '25.15579', 'https://www.travel.taipei/d_upload_ttn/sceneadmin/pic/11000985.jpg']\n",
      "['關渡、金色水岸、八里左岸自行車道', '北投區', '121.465255', '25.124904', 'https://www.travel.taipei/d_upload_ttn/sceneadmin/pic/11000979.jpg']\n",
      "['大安森林公園', '大安區', '121.5362', '25.0296', 'https://www.travel.taipei/d_upload_ttn/sceneadmin/image/A0/B0/C0/D11/E257/F345/546f42a1-cbfb-49fc-b4d8-c33f1c44190c.jpg']\n",
      "['地熱谷', '北投區', '121.511592', '25.137940', 'https://www.travel.taipei/d_upload_ttn/sceneadmin/pic/11003993.jpg']\n",
      "['南港山系-象山親山步道', '信義區', '121.571970', '25.023757', 'https://www.travel.taipei/d_upload_ttn/sceneadmin/pic/11001481.jpg']\n",
      "['艋舺龍山寺', '萬華區', '121.499962', '25.036798', 'https://www.travel.taipei/d_upload_ttn/sceneadmin/image/A0/B0/C0/D226/E920/F665/1f26af86-e907-44c9-b4d7-5c498dacfc6c.jpg']\n",
      "['行天宮', '中山區', '121.533838', '25.063059', 'https://www.travel.taipei/d_upload_ttn/sceneadmin/image/A0/B0/C1/D509/E14/F983/d5f49ce0-139c-4e8b-81cf-39e2b32e79bf.jpg']\n",
      "['梅庭', '北投區', '121.508682', '25.137025', 'https://www.travel.taipei/d_upload_ttn/sceneadmin/image/A0/B0/C1/D931/E93/F956/374f6b31-840b-407f-82b7-e6f70d4d0c49.JPG']\n",
      "['中正紀念堂', '中正區', '121.52194', '25.03471', 'https://www.travel.taipei/d_upload_ttn/sceneadmin/pic/11000375.jpg']\n",
      "['台北探索館', '信義區', '121.56376', '25.03758', 'https://www.travel.taipei/d_upload_ttn/sceneadmin/image/A0/B0/C0/D6/E578/F270/f6f669d9-997f-48c0-845a-be267b3d6ad5.jpg']\n",
      "['二格山系-指南宮貓空親山步道', '文山區', '121.581059', '24.984413', 'https://www.travel.taipei/d_upload_ttn/sceneadmin/pic/11002820.jpg']\n",
      "['北投溫泉博物館', '北投區', '121.507153', '25.136691', 'https://www.travel.taipei/d_upload_ttn/sceneadmin/pic/11000382.jpg']\n",
      "['琉園水晶博物館(暫時休館)', '北投區', '121.468942', '25.127255', 'https://www.travel.taipei/d_upload_ttn/sceneadmin/pic/11000813.jpg']\n",
      "['華山1914文化創意產業園區', '中正區', '121.52887', '25.04381', 'https://www.travel.taipei/d_upload_ttn/sceneadmin/pic/11000956.jpg']\n",
      "['長榮海事博物館', '中正區', '121.518770', '25.038728', 'https://www.travel.taipei/d_upload_ttn/sceneadmin/pic/11002524.jpg']\n",
      "['台北101', '信義區', '121.564837', '25.033194', 'https://www.travel.taipei/d_upload_ttn/sceneadmin/pic/11000361.jpg']\n",
      "['袖珍博物館', '中山區', '121.536287', '25.050375', 'https://www.travel.taipei/d_upload_ttn/sceneadmin/pic/11000762.jpg']\n",
      "['新店溪、大漢溪與淡水河自行車道', '萬華區', '121.504196', '25.020141', 'https://www.travel.taipei/d_upload_ttn/sceneadmin/pic/11000980.jpg']\n",
      "['北投公園', '北投區', '121.507289', '25.136663', 'https://www.travel.taipei/d_upload_ttn/sceneadmin/image/A0/B0/C0/D0/E196/F761/d15e55ea-c2a2-41cf-a931-42adab2bb739.jpg']\n",
      "['台北霞海城隍廟', '大同區', '121.510085', '25.055565', 'https://www.travel.taipei/d_upload_ttn/sceneadmin/pic/11000930.jpg']\n",
      "['國父紀念館', '信義區', '121.560314', '25.040055', 'https://www.travel.taipei/d_upload_ttn/sceneadmin/pic/11000358.jpg']\n",
      "['陽明山國家公園', '士林區', '121.547742', '25.15579', 'https://www.travel.taipei/d_upload_ttn/sceneadmin/pic/11003994.JPG']\n",
      "['臺北市立動物園', '文山區', '121.58211', '24.99883', 'https://www.travel.taipei/d_upload_ttn/sceneadmin/pic/11003997.JPG']\n",
      "['碧湖公園', '內湖區', '121.581244', '25.082220', 'https://www.travel.taipei/d_upload_ttn/sceneadmin/pic/11002936.jpg']\n",
      "['基隆河左、右岸親水', '士林區', '121.530239', '25.071668', 'https://www.travel.taipei/d_upload_ttn/sceneadmin/pic/11000840.jpg']\n",
      "['大湖公園', '內湖區', '121.60231', '25.08282', 'https://www.travel.taipei/d_upload_ttn/sceneadmin/image/A0/B0/C0/D727/E874/F732/1f40db60-ded0-416a-976e-baeea0464d8e.jpg']\n",
      "['臺北忠烈祠', '中山區', '121.5330', '25.0788', 'https://www.travel.taipei/d_upload_ttn/sceneadmin/pic/11000791.jpg']\n",
      "['關渡碼頭-甘豆門', '北投區', '121.461523', '25.122507', 'https://www.travel.taipei/d_upload_ttn/sceneadmin/pic/11000838.jpg']\n",
      "['社子島環島與二重疏洪道自行車道', '士林區', '121.503137', '25.08952', 'https://www.travel.taipei/d_upload_ttn/sceneadmin/pic/11000846.jpg']\n",
      "['七星山系-天母古道親山步道', '士林區', '121.534101', '25.126878', 'https://www.travel.taipei/d_upload_ttn/sceneadmin/pic/11000377.jpg']\n",
      "['台北當代藝術館', '大同區', '121.51892', '25.05072', 'https://www.travel.taipei/d_upload_ttn/sceneadmin/pic/11000735.jpg']\n",
      "['光點臺北', '中山區', '121.522450', '25.053225', 'https://www.travel.taipei/d_upload_ttn/sceneadmin/pic/11000394.jpg']\n",
      "['臺北市立美術館', '中山區', '121.524340', '25.072852', 'https://www.travel.taipei/d_upload_ttn/sceneadmin/image/A0/B0/C0/D532/E822/F530/e168789d-2c35-4c18-af07-04185601e3da.jpg']\n",
      "['行天宮北投分宮-忠義廟', '北投區', '121.47744', '25.13748', 'https://www.travel.taipei/d_upload_ttn/sceneadmin/pic/11002395.jpg']\n",
      "['景美溪左、右岸自行車道', '文山區', '121.587451', '25.0029', 'https://www.travel.taipei/d_upload_ttn/sceneadmin/pic/11000844.jpg']\n",
      "['國立歷史博物館', '中正區', '121.51121', '25.03161', 'https://www.travel.taipei/d_upload_ttn/sceneadmin/pic/11000725.jpg']\n",
      "['冷水坑溫泉區', '士林區', '121.56286', '25.16791', 'https://www.travel.taipei/d_upload_ttn/sceneadmin/pic/11000851.jpg']\n",
      "['西門紅樓', '萬華區', '121.506885', '25.042057', 'https://www.travel.taipei/d_upload_ttn/sceneadmin/image/A0/B0/C1/D237/E878/F721/4079be28-42bc-4153-aebd-6a1cbea84d5e.jpg']\n",
      "['松山慈祐宮', '松山區', '121.57774', '25.05103', 'https://www.travel.taipei/d_upload_ttn/sceneadmin/pic/11000935.jpg']\n",
      "['關渡宮', '北投區', '121.464010', '25.117655', 'https://www.travel.taipei/d_upload_ttn/sceneadmin/pic/11000948.jpg']\n",
      "['北投文物館', '北投區', '121.51479', '25.13819', 'https://www.travel.taipei/d_upload_ttn/sceneadmin/image/A0/B0/C1/D330/E107/F267/f51c663d-f50a-4691-9c6b-e578afea70d3.jpg']\n",
      "['內溝溪景觀生態步道', '內湖區', '121.62398', '25.08037', 'https://www.travel.taipei/d_upload_ttn/sceneadmin/pic/11003130.jpg']\n",
      "['二二八和平公園', '中正區', '121.515468', '25.040363', 'https://www.travel.taipei/d_upload_ttn/sceneadmin/pic/11000788.jpg']\n",
      "['國立臺灣科學教育館', '士林區', '121.5159', '25.0959', 'https://www.travel.taipei/d_upload_ttn/sceneadmin/pic/11000729.jpg']\n",
      "['指南宮', '文山區', '121.587087', '24.978651', 'https://www.travel.taipei/d_upload_ttn/sceneadmin/pic/11000932.jpg']\n",
      "['臺北啤酒工廠(原建國啤酒廠)', '中山區', '121.535389', '25.046111', 'https://www.travel.taipei/d_upload_ttn/sceneadmin/pic/11000870.jpg']\n",
      "['松山文創園區', '信義區', '121.560437', '25.043303', 'https://www.travel.taipei/d_upload_ttn/sceneadmin/image/A0/B0/C0/D26/E563/F587/cdeaa2fb-0f0e-4f4a-a078-170d23520800.jpg']\n",
      "['大龍峒保安宮', '大同區', '121.515416', '25.073138', 'https://www.travel.taipei/d_upload_ttn/sceneadmin/image/A0/B0/C1/D775/E454/F120/05e7fcff-c925-4828-8e89-c0bfdd3bfe9c.JPG']\n",
      "['雙溪生活水岸', '士林區', '121.523704', '25.098516', 'https://www.travel.taipei/d_upload_ttn/sceneadmin/pic/11002566.jpg']\n",
      "['陽明山中山樓', '北投區', '121.552772', '25.155623', 'https://www.travel.taipei/d_upload_ttn/sceneadmin/image/A0/B0/C0/D370/E882/F626/420c6cf8-45c6-4c31-8e0a-42d44a1a5eac.jpg']\n",
      "['臺北市鄉土教育中心(剝皮寮歷史街區)', '萬華區', '121.50326', '25.03666', 'https://www.travel.taipei/d_upload_ttn/sceneadmin/image/A0/B0/C1/D75/E624/F107/4192a9df-e1cd-49a5-900f-c392ae6a16f6.jpg']\n",
      "['自來水博物館', '中正區', '121.530106', '25.012652', 'https://www.travel.taipei/d_upload_ttn/sceneadmin/image/A0/B0/C0/D346/E920/F1/050967e9-15b8-4ff5-89ca-ad4a4d6186a7.jpg']\n",
      "['華中河濱公園', '萬華區', '121.494840', '25.015403', 'https://www.travel.taipei/d_upload_ttn/sceneadmin/image/A0/B0/C0/D0/E197/F323/522aa425-345c-4ac4-96b8-b21a33f165ca.JPG']\n"
     ]
    }
   ],
   "source": [
    "import urllib.request as request\n",
    "import json\n",
    "from openpyxl import Workbook\n",
    "src=\"https://padax.github.io/taipei-day-trip-resources/taipei-attractions-assignment.json\"\n",
    "with request.urlopen(src) as response:\n",
    "    data=json.load(response)\n",
    "    \n",
    "for test in data['result']['results']:\n",
    "    total_data = []\n",
    "    total_data.append(test['stitle'])\n",
    "    total_data.append(test['address'][5]+test['address'][6]+test['address'][7])\n",
    "    total_data.append(test['longitude'])\n",
    "    total_data.append(test['latitude'])\n",
    "    total_data.append('https' + test['file'].split('https')[1])\n",
    "    print(total_data)"
   ]
  },
  {
   "cell_type": "code",
   "execution_count": null,
   "metadata": {},
   "outputs": [],
   "source": []
  }
 ],
 "metadata": {
  "interpreter": {
   "hash": "14b97f94c57c02670dd6a910356b172da02f741736385716688c1b5922f255a8"
  },
  "kernelspec": {
   "display_name": "Python 3.9.1 64-bit",
   "language": "python",
   "name": "python3"
  },
  "language_info": {
   "codemirror_mode": {
    "name": "ipython",
    "version": 3
   },
   "file_extension": ".py",
   "mimetype": "text/x-python",
   "name": "python",
   "nbconvert_exporter": "python",
   "pygments_lexer": "ipython3",
   "version": "3.9.1"
  },
  "orig_nbformat": 4
 },
 "nbformat": 4,
 "nbformat_minor": 2
}
