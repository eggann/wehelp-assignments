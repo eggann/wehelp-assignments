{
 "cells": [
  {
   "cell_type": "code",
   "execution_count": 86,
   "metadata": {},
   "outputs": [
    {
     "name": "stdout",
     "output_type": "stream",
     "text": [
      "Collecting openpyxl\n",
      "  Downloading openpyxl-3.0.9-py2.py3-none-any.whl (242 kB)\n",
      "Collecting et-xmlfile\n",
      "  Downloading et_xmlfile-1.1.0-py3-none-any.whl (4.7 kB)\n",
      "Installing collected packages: et-xmlfile, openpyxl\n",
      "Successfully installed et-xmlfile-1.1.0 openpyxl-3.0.9\n",
      "Note: you may need to restart the kernel to use updated packages.\n"
     ]
    },
    {
     "name": "stderr",
     "output_type": "stream",
     "text": [
      "WARNING: You are using pip version 20.2.3; however, version 21.3.1 is available.\n",
      "You should consider upgrading via the 'C:\\Users\\eggann47\\AppData\\Local\\Programs\\Python\\Python39\\python.exe -m pip install --upgrade pip' command.\n"
     ]
    }
   ],
   "source": [
    "pip install openpyxl"
   ]
  },
  {
   "cell_type": "code",
   "execution_count": 115,
   "metadata": {},
   "outputs": [],
   "source": [
    "import urllib.request as request\n",
    "import json\n",
    "from openpyxl import Workbook\n",
    "src=\"https://padax.github.io/taipei-day-trip-resources/taipei-attractions-assignment.json\"\n",
    "with request.urlopen(src) as response:\n",
    "    data=json.load(response)\n",
    "\n",
    "wb = Workbook()\n",
    "ws = wb.active\n",
    "\n",
    "title = ['景點名稱','區域','經度','緯度','第一張圖檔網址']\n",
    "ws.append(title)\n",
    "    \n",
    "for test in data['result']['results']:\n",
    "    total_data = []\n",
    "    total_data.append(test['stitle'])\n",
    "    total_data.append(test['address'][5]+test['address'][6]+test['address'][7])\n",
    "    total_data.append(test['longitude'])\n",
    "    total_data.append(test['latitude'])\n",
    "    total_data.append('https' + test['file'].split('https')[1])\n",
    "    \n",
    "    ws.append(total_data)\n",
    "\n",
    "wb.save('data.csv')\n",
    "\n",
    "# 一筆一筆抓資料的痕跡\n",
    "\n",
    "# nlist=data['result']['results']\n",
    "# for namelist in nlist:\n",
    "#     name = namelist['stitle']\n",
    "#     print(name)\n",
    "\n",
    "# alist=data['result']['results']\n",
    "# for arealist in alist:\n",
    "#     area = arealist['address'][5]+arealist['address'][6]+arealist['address'][7]\n",
    "#     print(area)\n",
    "\n",
    "# llist=data['result']['results']\n",
    "# for longitude in llist:\n",
    "#     longitude_num = longitude['longitude']\n",
    "#     print(longitude_num)\n",
    "\n",
    "# lalist=data['result']['results']\n",
    "# for latitude in lalist:\n",
    "#     latitude_num = latitude['latitude']\n",
    "#     print(latitude_num)\n",
    "\n",
    "# jlist=data['result']['results']\n",
    "# for jpg in jlist:\n",
    "#     jpg_file = 'https'+jpg['file'].split('https')[1]\n",
    "#     print(jpg_file)\n",
    "    "
   ]
  }
 ],
 "metadata": {
  "interpreter": {
   "hash": "14b97f94c57c02670dd6a910356b172da02f741736385716688c1b5922f255a8"
  },
  "kernelspec": {
   "display_name": "Python 3.9.1 64-bit",
   "language": "python",
   "name": "python3"
  },
  "language_info": {
   "codemirror_mode": {
    "name": "ipython",
    "version": 3
   },
   "file_extension": ".py",
   "mimetype": "text/x-python",
   "name": "python",
   "nbconvert_exporter": "python",
   "pygments_lexer": "ipython3",
   "version": "3.9.1"
  },
  "orig_nbformat": 4
 },
 "nbformat": 4,
 "nbformat_minor": 2
}
