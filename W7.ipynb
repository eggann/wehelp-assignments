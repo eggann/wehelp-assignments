{
 "cells": [
  {
   "cell_type": "code",
   "execution_count": 1,
   "metadata": {},
   "outputs": [
    {
     "name": "stdout",
     "output_type": "stream",
     "text": [
      "\u001b[33mWARNING: Value for scheme.headers does not match. Please report this to <https://github.com/pypa/pip/issues/9617>\n",
      "distutils: /Library/Frameworks/Python.framework/Versions/3.9/include/python3.9/UNKNOWN\n",
      "sysconfig: /Library/Frameworks/Python.framework/Versions/3.9/include/python3.9\u001b[0m\n",
      "\u001b[33mWARNING: Additional context:\n",
      "user = False\n",
      "home = None\n",
      "root = None\n",
      "prefix = None\u001b[0m\n",
      "Requirement already satisfied: flask in /Library/Frameworks/Python.framework/Versions/3.9/lib/python3.9/site-packages (2.0.2)\n",
      "Requirement already satisfied: Jinja2>=3.0 in /Library/Frameworks/Python.framework/Versions/3.9/lib/python3.9/site-packages (from flask) (3.0.3)\n",
      "Requirement already satisfied: itsdangerous>=2.0 in /Library/Frameworks/Python.framework/Versions/3.9/lib/python3.9/site-packages (from flask) (2.0.1)\n",
      "Requirement already satisfied: click>=7.1.2 in /Library/Frameworks/Python.framework/Versions/3.9/lib/python3.9/site-packages (from flask) (8.0.3)\n",
      "Requirement already satisfied: Werkzeug>=2.0 in /Library/Frameworks/Python.framework/Versions/3.9/lib/python3.9/site-packages (from flask) (2.0.2)\n",
      "Requirement already satisfied: MarkupSafe>=2.0 in /Library/Frameworks/Python.framework/Versions/3.9/lib/python3.9/site-packages (from Jinja2>=3.0->flask) (2.0.1)\n",
      "\u001b[33mWARNING: Value for scheme.headers does not match. Please report this to <https://github.com/pypa/pip/issues/9617>\n",
      "distutils: /Library/Frameworks/Python.framework/Versions/3.9/include/python3.9/UNKNOWN\n",
      "sysconfig: /Library/Frameworks/Python.framework/Versions/3.9/include/python3.9\u001b[0m\n",
      "\u001b[33mWARNING: Additional context:\n",
      "user = False\n",
      "home = None\n",
      "root = None\n",
      "prefix = None\u001b[0m\n",
      "\u001b[33mWARNING: You are using pip version 21.1; however, version 21.3.1 is available.\n",
      "You should consider upgrading via the '/usr/local/bin/python3 -m pip install --upgrade pip' command.\u001b[0m\n",
      "Note: you may need to restart the kernel to use updated packages.\n"
     ]
    }
   ],
   "source": [
    "pip install flask"
   ]
  },
  {
   "cell_type": "code",
   "execution_count": 10,
   "metadata": {},
   "outputs": [
    {
     "name": "stdout",
     "output_type": "stream",
     "text": [
      " * Serving Flask app '__main__' (lazy loading)\n",
      " * Environment: production\n",
      "\u001b[31m   WARNING: This is a development server. Do not use it in a production deployment.\u001b[0m\n",
      "\u001b[2m   Use a production WSGI server instead.\u001b[0m\n",
      " * Debug mode: off\n"
     ]
    },
    {
     "name": "stderr",
     "output_type": "stream",
     "text": [
      " * Running on http://127.0.0.1:3000/ (Press CTRL+C to quit)\n",
      "127.0.0.1 - - [18/Jan/2022 15:16:28] \"GET /user/葉 HTTP/1.1\" 200 -\n",
      "127.0.0.1 - - [18/Jan/2022 15:16:38] \"GET /static/egg.png HTTP/1.1\" 200 -\n"
     ]
    }
   ],
   "source": [
    "from flask import Flask, render_template\n",
    "app = Flask(\n",
    "    __name__,\n",
    "    static_folder = \"static\", # 靜態檔案的資料夾名稱\n",
    "    static_url_path = \"/\" # 靜態檔案對應的網址路徑\n",
    "    )\n",
    "# 所有在 static 資料夾底下的檔案，都對應到網址路徑 /檔案名稱\n",
    "\n",
    "@app.route(\"/\")\n",
    "def home():\n",
    "    return 'First Web App'\n",
    "\n",
    "@app.route(\"/data\")\n",
    "def handleData():\n",
    "    return 'Hello Data'\n",
    "\n",
    "@app.route(\"/user/<username>\")\n",
    "def handleUser(username):\n",
    "    if username == \"葉\":\n",
    "        return \"你好 \" + username\n",
    "    else:\n",
    "        return \"Hello \" + username\n",
    "\n",
    "\n",
    "# if __name__ == \"__main__\":\n",
    "app.run(port=3000)"
   ]
  },
  {
   "cell_type": "code",
   "execution_count": 1,
   "metadata": {},
   "outputs": [
    {
     "name": "stdout",
     "output_type": "stream",
     "text": [
      "Collecting mysql-connector-python\n",
      "  Downloading mysql_connector_python-8.0.28-py2.py3-none-any.whl (342 kB)\n",
      "Collecting protobuf>=3.0.0\n",
      "  Downloading protobuf-3.19.4-cp38-cp38-win32.whl (775 kB)\n",
      "Installing collected packages: protobuf, mysql-connector-python\n",
      "Successfully installed mysql-connector-python-8.0.28 protobuf-3.19.4\n",
      "Note: you may need to restart the kernel to use updated packages.\n"
     ]
    },
    {
     "name": "stderr",
     "output_type": "stream",
     "text": [
      "WARNING: You are using pip version 21.3; however, version 22.0.3 is available.\n",
      "You should consider upgrading via the 'C:\\Users\\eggann47\\AppData\\Local\\Programs\\Python\\Python38-32\\python.exe -m pip install --upgrade pip' command.\n"
     ]
    }
   ],
   "source": [
    "pip install mysql-connector-python"
   ]
  },
  {
   "cell_type": "code",
   "execution_count": 1,
   "metadata": {},
   "outputs": [
    {
     "name": "stdout",
     "output_type": "stream",
     "text": [
      "<mysql.connector.connection.MySQLConnection object at 0x05C3C760>\n"
     ]
    }
   ],
   "source": [
    "import mysql.connector\n",
    "\n",
    "mydb = mysql.connector.connect(\n",
    "    host = \"localhost\",\n",
    "    user = \"root\",\n",
    "    password = \"jiggjo9182\"\n",
    ")\n",
    "\n",
    "print(mydb)"
   ]
  },
  {
   "cell_type": "code",
   "execution_count": 1,
   "metadata": {},
   "outputs": [],
   "source": [
    "pip install Flask_MySQLdb"
   ]
  },
  {
   "cell_type": "code",
   "execution_count": null,
   "metadata": {},
   "outputs": [],
   "source": [
    "pip install Werkzeug"
   ]
  },
  {
   "cell_type": "code",
   "execution_count": 1,
   "metadata": {},
   "outputs": [
    {
     "name": "stdout",
     "output_type": "stream",
     "text": [
      "Collecting flask-restful\n",
      "  Downloading Flask_RESTful-0.3.9-py2.py3-none-any.whl (25 kB)\n",
      "Requirement already satisfied: pytz in c:\\users\\eggann47\\appdata\\roaming\\python\\python38\\site-packages (from flask-restful) (2019.3)\n",
      "Requirement already satisfied: six>=1.3.0 in c:\\users\\eggann47\\appdata\\roaming\\python\\python38\\site-packages (from flask-restful) (1.16.0)\n",
      "Collecting Flask>=0.8\n",
      "  Downloading Flask-2.0.3-py3-none-any.whl (95 kB)\n",
      "Collecting aniso8601>=0.82\n",
      "  Downloading aniso8601-9.0.1-py2.py3-none-any.whl (52 kB)\n",
      "Requirement already satisfied: Jinja2>=3.0 in c:\\users\\eggann47\\appdata\\local\\programs\\python\\python38-32\\lib\\site-packages (from Flask>=0.8->flask-restful) (3.0.3)\n",
      "Requirement already satisfied: click>=7.1.2 in c:\\users\\eggann47\\appdata\\local\\programs\\python\\python38-32\\lib\\site-packages (from Flask>=0.8->flask-restful) (8.0.3)\n",
      "Requirement already satisfied: itsdangerous>=2.0 in c:\\users\\eggann47\\appdata\\local\\programs\\python\\python38-32\\lib\\site-packages (from Flask>=0.8->flask-restful) (2.0.1)\n",
      "Requirement already satisfied: Werkzeug>=2.0 in c:\\users\\eggann47\\appdata\\local\\programs\\python\\python38-32\\lib\\site-packages (from Flask>=0.8->flask-restful) (2.0.2)\n",
      "Requirement already satisfied: colorama in c:\\users\\eggann47\\appdata\\roaming\\python\\python38\\site-packages (from click>=7.1.2->Flask>=0.8->flask-restful) (0.4.3)\n",
      "Requirement already satisfied: MarkupSafe>=2.0 in c:\\users\\eggann47\\appdata\\local\\programs\\python\\python38-32\\lib\\site-packages (from Jinja2>=3.0->Flask>=0.8->flask-restful) (2.0.1)\n",
      "Installing collected packages: Flask, aniso8601, flask-restful\n",
      "Successfully installed Flask-2.0.3 aniso8601-9.0.1 flask-restful-0.3.9\n",
      "Note: you may need to restart the kernel to use updated packages.\n"
     ]
    },
    {
     "name": "stderr",
     "output_type": "stream",
     "text": [
      "WARNING: You are using pip version 21.3; however, version 22.0.3 is available.\n",
      "You should consider upgrading via the 'C:\\Users\\eggann47\\AppData\\Local\\Programs\\Python\\Python38-32\\python.exe -m pip install --upgrade pip' command.\n"
     ]
    }
   ],
   "source": [
    "pip install flask-restful"
   ]
  },
  {
   "cell_type": "code",
   "execution_count": null,
   "metadata": {},
   "outputs": [],
   "source": []
  }
 ],
 "metadata": {
  "interpreter": {
   "hash": "aee8b7b246df8f9039afb4144a1f6fd8d2ca17a180786b69acc140d282b71a49"
  },
  "kernelspec": {
   "display_name": "Python 3.9.0 64-bit",
   "language": "python",
   "name": "python3"
  },
  "language_info": {
   "codemirror_mode": {
    "name": "ipython",
    "version": 3
   },
   "file_extension": ".py",
   "mimetype": "text/x-python",
   "name": "python",
   "nbconvert_exporter": "python",
   "pygments_lexer": "ipython3",
   "version": "3.8.0"
  },
  "orig_nbformat": 4
 },
 "nbformat": 4,
 "nbformat_minor": 2
}
